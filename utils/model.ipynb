{
 "cells": [
  {
   "cell_type": "code",
   "execution_count": 1,
   "id": "c68a4834",
   "metadata": {},
   "outputs": [],
   "source": [
    "import yfinance as yf\n",
    "import numpy as np\n",
    "import pandas as pd\n",
    "from statsmodels.tsa.stattools import adfuller\n",
    "from sklearn.preprocessing import StandardScaler\n",
    "from sklearn.metrics import mean_squared_error\n",
    "from datetime import datetime, timedelta\n",
    "from statsmodels.tsa.arima.model import ARIMA"
   ]
  },
  {
   "cell_type": "code",
   "execution_count": 2,
   "id": "0fb18225",
   "metadata": {},
   "outputs": [],
   "source": [
    "def get_data(ticker):\n",
    "    stock = yf.Ticker(ticker)\n",
    "    stock_data = stock.history(start=\"2024-01-01\")\n",
    "    return stock_data"
   ]
  },
  {
   "cell_type": "code",
   "execution_count": 3,
   "id": "9877017a",
   "metadata": {},
   "outputs": [],
   "source": [
    "def stationary_check(close_price):\n",
    "    # Ensure 1D input\n",
    "    if isinstance(close_price, pd.DataFrame):\n",
    "        close_price = close_price.iloc[:, 0]\n",
    "    elif isinstance(close_price, np.ndarray):\n",
    "        close_price = close_price.flatten()\n",
    "    \n",
    "    adf_test = adfuller(close_price)\n",
    "    p_value = adf_test[1]\n",
    "    if p_value < 0.05:\n",
    "        conclusion = 'Given data is Stationary'\n",
    "    else:\n",
    "        conclusion = 'Given data is not Stationary'\n",
    "    return p_value, conclusion"
   ]
  },
  {
   "cell_type": "code",
   "execution_count": 4,
   "id": "ec13ca0f",
   "metadata": {},
   "outputs": [],
   "source": [
    "def get_rolling_mean(close_price):\n",
    "    if isinstance(close_price, pd.DataFrame):\n",
    "        close_price = close_price[\"Close\"]\n",
    "    rolling_price = close_price.rolling(window=7).mean().dropna()\n",
    "    return rolling_price\n"
   ]
  },
  {
   "cell_type": "code",
   "execution_count": 5,
   "id": "041714b3",
   "metadata": {},
   "outputs": [],
   "source": [
    "def get_differencing_order(close_price):\n",
    "    p_value = stationary_check(close_price)[0]\n",
    "    d = 0\n",
    "    while True:\n",
    "        if p_value > 0.05:\n",
    "            d = d + 1\n",
    "            close_price = close_price.diff().dropna()\n",
    "            p_value = stationary_check(close_price)[0]\n",
    "        else:\n",
    "            break\n",
    "    \n",
    "    return d"
   ]
  },
  {
   "cell_type": "code",
   "execution_count": 6,
   "id": "2f6572e5",
   "metadata": {},
   "outputs": [],
   "source": [
    "def fit_model(data, differencing_order):\n",
    "    model = ARIMA(data, order = (30,differencing_order, 30))\n",
    "    model_fit = model.fit()\n",
    "\n",
    "    forecast_steps = 30\n",
    "    forecast = model_fit.get_forecast(steps=forecast_steps)\n",
    "    predictions = forecast.predicted_mean\n",
    "    return predictions"
   ]
  },
  {
   "cell_type": "code",
   "execution_count": 7,
   "id": "15600788",
   "metadata": {},
   "outputs": [],
   "source": [
    "def evaluate_model(original_price, differencing_order):\n",
    "    train_data, test_data = original_price[:-30], original_price[-30:]\n",
    "    predictions = fit_model(train_data, differencing_order)\n",
    "    rmse = np.sqrt(mean_squared_error(test_data, predictions))\n",
    "    return round(rmse, 2)"
   ]
  },
  {
   "cell_type": "code",
   "execution_count": 8,
   "id": "d0c4bac3",
   "metadata": {},
   "outputs": [],
   "source": [
    "def scaling(close_price):\n",
    "    scale = StandardScaler()\n",
    "    scaled_data = scale.fit_transform(np.array(close_price).reshape(-1,1))\n",
    "    return scaled_data, scale"
   ]
  },
  {
   "cell_type": "code",
   "execution_count": 9,
   "id": "d3eff137",
   "metadata": {},
   "outputs": [],
   "source": [
    "def get_forecast(original_price, differencing_order):\n",
    "    predictions = fit_model(original_price, differencing_order)\n",
    "    start_date = datetime.now().strftime(\"%Y-%m-%d\")\n",
    "    end_date = (datetime.now() + timedelta(days=29)).strftime(\"%Y-%m-%d\")\n",
    "    forecast_index = pd.date_range(start=start_date, end=end_date)\n",
    "    forecast_df = pd.DataFrame(predictions, index=forecast_index, columns=[\"Forecast\"])\n",
    "    return forecast_df"
   ]
  },
  {
   "cell_type": "code",
   "execution_count": 10,
   "id": "bf260802",
   "metadata": {},
   "outputs": [],
   "source": [
    "def inverse_scaling(scale, scaled_data):\n",
    "    close_price = scale.inverse_transform(np.array(scaled_data).reshape(-1, 1))\n",
    "    return close_price"
   ]
  },
  {
   "cell_type": "code",
   "execution_count": 11,
   "id": "f3074879",
   "metadata": {},
   "outputs": [],
   "source": [
    "ticker = \"TSLA\"\n",
    "data = get_data(ticker)\n",
    "close_price = data[\"Close\"]"
   ]
  },
  {
   "cell_type": "code",
   "execution_count": 12,
   "id": "5e2eef26",
   "metadata": {},
   "outputs": [],
   "source": [
    "rolling_mean = get_rolling_mean(close_price)\n",
    "differencing_order = get_differencing_order(close_price)\n",
    "scaled_data, scaler = scaling(rolling_mean)"
   ]
  },
  {
   "cell_type": "code",
   "execution_count": null,
   "id": "8dc6b9e9",
   "metadata": {},
   "outputs": [
    {
     "name": "stderr",
     "output_type": "stream",
     "text": [
      "/opt/anaconda3/envs/ts/lib/python3.10/site-packages/statsmodels/tsa/statespace/sarimax.py:966: UserWarning: Non-stationary starting autoregressive parameters found. Using zeros as starting parameters.\n",
      "  warn('Non-stationary starting autoregressive parameters'\n",
      "/opt/anaconda3/envs/ts/lib/python3.10/site-packages/statsmodels/tsa/statespace/sarimax.py:978: UserWarning: Non-invertible starting MA parameters found. Using zeros as starting parameters.\n",
      "  warn('Non-invertible starting MA parameters found.'\n",
      "/opt/anaconda3/envs/ts/lib/python3.10/site-packages/statsmodels/base/model.py:607: ConvergenceWarning: Maximum Likelihood optimization failed to converge. Check mle_retvals\n",
      "  warnings.warn(\"Maximum Likelihood optimization failed to \"\n"
     ]
    }
   ],
   "source": [
    "rmse = evaluate_model(scaled_data, differencing_order)\n",
    "rmse"
   ]
  },
  {
   "cell_type": "code",
   "execution_count": null,
   "id": "8b6a2107",
   "metadata": {},
   "outputs": [
    {
     "name": "stderr",
     "output_type": "stream",
     "text": [
      "/opt/anaconda3/envs/ts/lib/python3.10/site-packages/statsmodels/tsa/statespace/sarimax.py:966: UserWarning: Non-stationary starting autoregressive parameters found. Using zeros as starting parameters.\n",
      "  warn('Non-stationary starting autoregressive parameters'\n",
      "/opt/anaconda3/envs/ts/lib/python3.10/site-packages/statsmodels/tsa/statespace/sarimax.py:978: UserWarning: Non-invertible starting MA parameters found. Using zeros as starting parameters.\n",
      "  warn('Non-invertible starting MA parameters found.'\n",
      "/opt/anaconda3/envs/ts/lib/python3.10/site-packages/statsmodels/base/model.py:607: ConvergenceWarning: Maximum Likelihood optimization failed to converge. Check mle_retvals\n",
      "  warnings.warn(\"Maximum Likelihood optimization failed to \"\n"
     ]
    },
    {
     "name": "stdout",
     "output_type": "stream",
     "text": [
      "            Forecast\n",
      "2025-05-15  0.811841\n",
      "2025-05-16  0.915624\n",
      "2025-05-17  1.005096\n",
      "2025-05-18  1.073304\n",
      "2025-05-19  1.108384\n",
      "2025-05-20  1.108695\n",
      "2025-05-21  1.092607\n",
      "2025-05-22  1.082297\n",
      "2025-05-23  1.098509\n",
      "2025-05-24  1.106610\n",
      "2025-05-25  1.121648\n",
      "2025-05-26  1.146252\n",
      "2025-05-27  1.178272\n",
      "2025-05-28  1.190971\n",
      "2025-05-29  1.206090\n",
      "2025-05-30  1.199172\n",
      "2025-05-31  1.200692\n",
      "2025-06-01  1.195217\n",
      "2025-06-02  1.181319\n",
      "2025-06-03  1.175255\n",
      "2025-06-04  1.187209\n",
      "2025-06-05  1.204638\n",
      "2025-06-06  1.231604\n",
      "2025-06-07  1.262164\n",
      "2025-06-08  1.290917\n",
      "2025-06-09  1.312099\n",
      "2025-06-10  1.320203\n",
      "2025-06-11  1.319155\n",
      "2025-06-12  1.306044\n",
      "2025-06-13  1.285153\n"
     ]
    }
   ],
   "source": [
    "forecast = get_forecast(scaled_data, differencing_order)\n",
    "print(forecast)"
   ]
  },
  {
   "cell_type": "code",
   "execution_count": null,
   "id": "dadedbcb",
   "metadata": {},
   "outputs": [],
   "source": []
  }
 ],
 "metadata": {
  "kernelspec": {
   "display_name": "ts",
   "language": "python",
   "name": "python3"
  },
  "language_info": {
   "codemirror_mode": {
    "name": "ipython",
    "version": 3
   },
   "file_extension": ".py",
   "mimetype": "text/x-python",
   "name": "python",
   "nbconvert_exporter": "python",
   "pygments_lexer": "ipython3",
   "version": "3.10.16"
  }
 },
 "nbformat": 4,
 "nbformat_minor": 5
}
